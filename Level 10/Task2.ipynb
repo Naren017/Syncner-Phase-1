{
 "cells": [
  {
   "cell_type": "code",
   "execution_count": null,
   "metadata": {},
   "outputs": [],
   "source": [
    "import pandas as pd\n",
    "import numpy as np\n",
    "import matplotlib.pyplot as plt\n",
    "import seaborn as sns\n",
    "\n",
    "if 'price' not in df.columns:\n",
    "  print(\"Error: 'price' column not found in dataset\")\n",
    "  exit()\n",
    "\n",
    "try:\n",
    "  df['price'] = pd.to_numeric(df['price'], errors='coerce')\n",
    "  df = df.dropna(subset=['price'])\n",
    "  price_data = df['price']\n",
    "except Exception as e:\n",
    "  print(f\"Error processing price column: {e}\")\n",
    "  exit()\n",
    "\n",
    "price_range = np.ptp(price_data)  \n",
    "price_variance = np.var(price_data) \n",
    "price_std_dev = np.std(price_data)  \n",
    "\n",
    "print(\"Price Dispersion Statistics:\")\n",
    "print(f\"Range: {price_range}\")\n",
    "print(f\"Variance: {price_variance}\")\n",
    "print(f\"Standard Deviation: {price_std_dev}\")\n",
    "\n",
    "\n",
    "plt.figure(figsize=(10, 6))\n",
    "sns.histplot(price_data, kde=True) \n",
    "plt.title('Distribution of Prices')\n",
    "plt.xlabel('Price')\n",
    "plt.ylabel('Frequency')\n",
    "plt.show()\n",
    "\n",
    "plt.figure(figsize=(10, 6))\n",
    "sns.boxplot(y=price_data) \n",
    "plt.title('Boxplot of Prices')\n",
    "plt.ylabel('Price')\n",
    "plt.show()\n"
   ]
  }
 ],
 "metadata": {
  "language_info": {
   "name": "python"
  }
 },
 "nbformat": 4,
 "nbformat_minor": 2
}
