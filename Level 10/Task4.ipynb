{
 "cells": [
  {
   "cell_type": "code",
   "execution_count": null,
   "metadata": {},
   "outputs": [],
   "source": [
    "import pandas as pd\n",
    "import seaborn as sns\n",
    "import matplotlib.pyplot as plt\n",
    "\n",
    "try:\n",
    "  df = pd.read_csv('/content/all_perth_310121.csv')\n",
    "except FileNotFoundError:\n",
    "  print(\"Error: housing.csv not found\")\n",
    "  exit()\n",
    "\n",
    "column1 = 'PRICE'\n",
    "column2 = 'SUBURB'\n",
    "\n",
    "if column1 not in df.columns or column2 not in df.columns:\n",
    "    print(f\"Error: One or both of the specified columns ({column1}, {column2}) not found in the dataset.\")\n",
    "    exit()\n",
    "\n",
    "correlation = df[column1].corr(df[column2])\n",
    "\n",
    "print(f\"Pearson correlation between {column1} and {column2}: {correlation}\")\n",
    "\n",
    "sns.scatterplot(x=column1, y=column2, data=df)\n",
    "plt.title(f\"Scatter Plot of {column1} vs. {column2}\")\n",
    "plt.xlabel(column1)\n",
    "plt.ylabel(column2)\n",
    "plt.show()\n"
   ]
  }
 ],
 "metadata": {
  "language_info": {
   "name": "python"
  }
 },
 "nbformat": 4,
 "nbformat_minor": 2
}
