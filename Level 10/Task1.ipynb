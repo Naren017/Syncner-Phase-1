{
 "cells": [
  {
   "cell_type": "code",
   "execution_count": null,
   "metadata": {},
   "outputs": [],
   "source": [
    "import pandas as pd\n",
    "import numpy as np\n",
    "import matplotlib.pyplot as plt\n",
    "import seaborn as sns\n",
    "\n",
    "\n",
    "df = pd.read_csv('/content/online_retail.csv', encoding='ISO-8859-1')\n",
    "\n",
    "\n",
    "if df is not None:\n",
    "    df.dropna(subset=['Quantity', 'UnitPrice'], inplace=True)  \n",
    "    df['TotalAmount'] = df['Quantity'] * df['UnitPrice']\n",
    "    df = df[df['TotalAmount'] > 0] \n",
    "\n",
    "    mean_amount = np.mean(df['TotalAmount'])\n",
    "    median_amount = np.median(df['TotalAmount'])\n",
    "    mode_amount = df['TotalAmount'].mode()[0]\n",
    "\n",
    "    def customer_segment(amount):\n",
    "        if amount > mean_amount:\n",
    "            return \"High Spender\"\n",
    "        elif amount > median_amount:\n",
    "            return \"Medium Spender\"\n",
    "        else:\n",
    "            return \"Low Spender\"\n",
    "    df['CustomerSegment'] = df['TotalAmount'].apply(customer_segment)\n",
    "    segment_stats = df.groupby('CustomerSegment')['TotalAmount'].agg(['mean', 'median', 'count'])\n",
    "    print(segment_stats)\n",
    "\n",
    "    plt.figure(figsize=(10,6))\n",
    "    sns.barplot(x='CustomerSegment', y='TotalAmount', data=df, estimator=np.mean, ci=None)\n",
    "    plt.title('Average Spending by Customer Segment')\n",
    "    plt.ylabel('Average Total Amount')\n",
    "    plt.show()\n",
    "\n",
    "    print(f\"Mean spending: {mean_amount:.2f}\")\n",
    "    print(f\"Median spending: {median_amount:.2f}\")\n",
    "    print(f\"Mode spending: {mode_amount:.2f}\")\n",
    "\n",
    "    \n"
   ]
  }
 ],
 "metadata": {
  "language_info": {
   "name": "python"
  }
 },
 "nbformat": 4,
 "nbformat_minor": 2
}
