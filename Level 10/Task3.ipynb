{
 "cells": [
  {
   "cell_type": "code",
   "execution_count": null,
   "metadata": {},
   "outputs": [],
   "source": [
    "import pandas as pd\n",
    "from scipy import stats\n",
    "import seaborn as sns\n",
    "import matplotlib.pyplot as plt\n",
    "\n",
    "group1_name = 'North'\n",
    "group2_name = 'South'\n",
    "\n",
    "try:\n",
    "    group1 = df[df['Product'] == group1_name]['Sales']\n",
    "    group2 = df[df['Product'] == group2_name]['Sales']\n",
    "\n",
    "    t_statistic, p_value = stats.ttest_ind(group1, group2)\n",
    "\n",
    "    print(f\"T-statistic: {t_statistic}\")\n",
    "    print(f\"P-value: {p_value}\")\n",
    "\n",
    "    alpha = 0.05\n",
    "    if p_value < alpha:\n",
    "        print(\"Reject the null hypothesis. There is a statistically significant difference between the groups.\")\n",
    "    else:\n",
    "        print(\"Fail to reject the null hypothesis. There is no statistically significant difference between the groups.\")\n",
    "\n",
    "    plt.figure(figsize=(8, 6))\n",
    "    sns.barplot(x=['Region1', 'Region2'], y=[group1.mean(), group2.mean()])\n",
    "    plt.title('Sales Comparison between Regions')\n",
    "    plt.xlabel('Regions')\n",
    "    plt.ylabel('Average Sales')\n",
    "    plt.show()\n",
    "\n",
    "except KeyError as e:\n",
    "    print(f\"Error: Column '{e}' not found in the dataset. Please check your column names.\")\n",
    "except Exception as e:\n",
    "  print(f\"An unexpected error occurred: {e}\")\n"
   ]
  }
 ],
 "metadata": {
  "language_info": {
   "name": "python"
  }
 },
 "nbformat": 4,
 "nbformat_minor": 2
}
