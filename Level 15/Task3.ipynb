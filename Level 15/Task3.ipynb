{
 "cells": [
  {
   "cell_type": "code",
   "execution_count": null,
   "metadata": {},
   "outputs": [],
   "source": [
    "import pandas as pd\n",
    "import numpy as np\n",
    "import matplotlib.pyplot as plt\n",
    "from sklearn.cluster import KMeans\n",
    "from sklearn.preprocessing import StandardScaler\n",
    "from sklearn.metrics import silhouette_score\n",
    "from scipy.cluster.hierarchy import linkage, dendrogram, fcluster\n",
    "\n",
    "df = pd.read_csv('C:\\Users\\HP\\Desktop\\Syncner\\Datasets\\Mall_Customers.csv')\n",
    "\n",
    "X = df[['Age', 'Annual Income (k$)', 'Spending Score (1-100)']]\n",
    "scaler = StandardScaler()\n",
    "X_scaled = scaler.fit_transform(X)\n",
    "\n",
    "kmeans = KMeans(n_clusters=3, random_state=42)\n",
    "kmeans_labels = kmeans.fit_predict(X_scaled)\n",
    "\n",
    "linkage_matrix = linkage(X_scaled, method='ward')\n",
    "hierarchical_labels = fcluster(linkage_matrix, 3, criterion='maxclust')\n",
    "\n",
    "plt.figure(figsize=(8,6))\n",
    "plt.scatter(X_scaled[:, 0], X_scaled[:, 1], c=kmeans_labels, cmap='viridis')\n",
    "plt.title('KMeans Clustering (3 Clusters)')\n",
    "plt.xlabel('Age (standardized)')\n",
    "plt.ylabel('Income (standardized)')\n",
    "plt.grid()\n",
    "plt.tight_layout()\n",
    "plt.show()\n",
    "\n",
    "plt.figure(figsize=(10, 7))\n",
    "dendrogram(linkage_matrix)\n",
    "plt.title('Hierarchical Clustering Dendrogram')\n",
    "plt.xlabel('Samples')\n",
    "plt.ylabel('Distance')\n",
    "plt.tight_layout()\n",
    "plt.show()\n",
    "\n",
    "silhouette_kmeans = silhouette_score(X_scaled, kmeans_labels)\n",
    "silhouette_hierarchical = silhouette_score(X_scaled, hierarchical_labels)\n",
    "\n",
    "print(f\"Silhouette Score - KMeans: {silhouette_kmeans:.4f}\")\n",
    "print(f\"Silhouette Score - Hierarchical: {silhouette_hierarchical:.4f}\")\n"
   ]
  }
 ],
 "metadata": {
  "language_info": {
   "name": "python"
  }
 },
 "nbformat": 4,
 "nbformat_minor": 2
}
