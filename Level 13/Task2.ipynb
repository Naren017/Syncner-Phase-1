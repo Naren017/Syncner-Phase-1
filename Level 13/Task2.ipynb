{
 "cells": [
  {
   "cell_type": "code",
   "execution_count": null,
   "metadata": {},
   "outputs": [],
   "source": [
    "import pandas as pd\n",
    "from sklearn.preprocessing import StandardScaler\n",
    "from sklearn.cluster import KMeans\n",
    "from sklearn.metrics import silhouette_score\n",
    "import matplotlib.pyplot as plt\n",
    "\n",
    "features = ['Annual Income (k$)', 'Spending Score (1-100)']\n",
    "X = data[features]\n",
    "\n",
    "for col in features:\n",
    "  if X[col].isnull().any():\n",
    "    X[col].fillna(X[col].mean(), inplace = True)\n",
    "\n",
    "scaler = StandardScaler()\n",
    "X_scaled = scaler.fit_transform(X)\n",
    "\n",
    "best_score = -1\n",
    "best_n_clusters = 0\n",
    "\n",
    "for n_clusters in range(2, 6):\n",
    "    kmeans = KMeans(n_clusters=n_clusters, random_state=42, n_init=10) \n",
    "    cluster_labels = kmeans.fit_predict(X_scaled)\n",
    "    silhouette_avg = silhouette_score(X_scaled, cluster_labels)\n",
    "\n",
    "    print(f\"For n_clusters = {n_clusters}, the average silhouette_score is : {silhouette_avg}\")\n",
    "\n",
    "    if silhouette_avg > best_score:\n",
    "        best_score = silhouette_avg\n",
    "        best_n_clusters = n_clusters\n",
    "        best_kmeans = kmeans\n",
    "\n",
    "print(f\"\\nBest Silhouette Score: {best_score} with {best_n_clusters} clusters\")\n",
    "\n",
    "kmeans = best_kmeans \n",
    "cluster_labels = kmeans.fit_predict(X_scaled)\n",
    "\n",
    "plt.scatter(X['Annual Income (k$)'], X['Spending Score (1-100)'], c=cluster_labels, cmap='viridis')\n",
    "plt.xlabel('Annual Income (k$)')\n",
    "plt.ylabel('Spending Score (1-100)')\n",
    "plt.title(f'Customer Segmentation with {best_n_clusters} Clusters')\n",
    "plt.show()\n",
    "\n",
    "print(\"Analysis: The silhouette score helps evaluate the quality of clustering. Higher values indicate better-defined clusters.\")\n"
   ]
  }
 ],
 "metadata": {
  "language_info": {
   "name": "python"
  }
 },
 "nbformat": 4,
 "nbformat_minor": 2
}
