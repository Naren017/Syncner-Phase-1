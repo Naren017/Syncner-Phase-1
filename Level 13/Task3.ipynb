{
 "cells": [
  {
   "cell_type": "code",
   "execution_count": null,
   "metadata": {},
   "outputs": [],
   "source": [
    "\n",
    "import pandas as pd\n",
    "from sklearn.model_selection import train_test_split\n",
    "from sklearn.preprocessing import StandardScaler\n",
    "from sklearn.tree import DecisionTreeClassifier\n",
    "from sklearn.ensemble import AdaBoostClassifier\n",
    "from sklearn.metrics import roc_auc_score\n",
    "import matplotlib.pyplot as plt\n",
    "import seaborn as sns\n",
    "\n",
    "data = pd.read_csv('/content/data.csv')\n",
    "data.drop(['id', 'Unnamed: 32'], axis=1, inplace=True)\n",
    "data['diagnosis'] = data['diagnosis'].map({'M': 1, 'B': 0})\n",
    "\n",
    "numerical_cols = data.select_dtypes(include=['number']).columns\n",
    "for col in numerical_cols:\n",
    "    data[col].fillna(data[col].mean(), inplace=True)\n",
    "\n",
    "\n",
    "X = data.drop('diagnosis', axis=1)\n",
    "y = data['diagnosis']\n",
    "\n",
    "scaler = StandardScaler()\n",
    "X = scaler.fit_transform(X)\n",
    "\n",
    "X_train, X_test, y_train, y_test = train_test_split(X, y, test_size=0.2, random_state=42)\n",
    "\n",
    "base_model = DecisionTreeClassifier(max_depth=1, random_state=42)\n",
    "base_model.fit(X_train, y_train)\n",
    "base_predictions = base_model.predict_proba(X_test)[:, 1]\n",
    "\n",
    "ada_model = AdaBoostClassifier(base_estimator=base_model, n_estimators=50, random_state=42)\n",
    "ada_model.fit(X_train, y_train)\n",
    "ada_predictions = ada_model.predict_proba(X_test)[:, 1]\n",
    "\n",
    "base_roc_auc = roc_auc_score(y_test, base_predictions)\n",
    "ada_roc_auc = roc_auc_score(y_test, ada_predictions)\n",
    "\n",
    "results_df = pd.DataFrame({\n",
    "    'Model': ['Base Decision Tree', 'AdaBoost'],\n",
    "    'ROC AUC Score': [base_roc_auc, ada_roc_auc]\n",
    "})\n",
    "print(results_df)\n",
    "\n",
    "plt.figure(figsize=(8, 6))\n",
    "sns.barplot(x='Model', y='ROC AUC Score', data=results_df)\n",
    "plt.title('Model Performance Comparison')\n",
    "plt.show()\n",
    "\n",
    "print(\"\\nAdaBoost typically improves performance by combining multiple weak learners.\")\n"
   ]
  }
 ],
 "metadata": {
  "language_info": {
   "name": "python"
  }
 },
 "nbformat": 4,
 "nbformat_minor": 2
}
