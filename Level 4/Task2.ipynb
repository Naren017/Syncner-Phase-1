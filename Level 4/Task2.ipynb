{
 "cells": [
  {
   "cell_type": "code",
   "execution_count": null,
   "metadata": {
    "vscode": {
     "languageId": "plaintext"
    }
   },
   "outputs": [],
   "source": [
    "from PyPDF2 import PdfReader, PdfWriter\n",
    "\n",
    "input_pdf = \"input.pdf\"\n",
    "output_pdf = \"protected.pdf\"\n",
    "password = \"mypassword\"\n",
    "\n",
    "reader = PdfReader(input_pdf)\n",
    "writer = PdfWriter()\n",
    "\n",
    "for page in reader.pages:\n",
    "    writer.add_page(page)\n",
    "\n",
    "writer.encrypt(password)\n",
    "with open(output_pdf, \"wb\") as f:\n",
    "    writer.write(f)\n"
   ]
  }
 ],
 "metadata": {
  "language_info": {
   "name": "python"
  }
 },
 "nbformat": 4,
 "nbformat_minor": 2
}
