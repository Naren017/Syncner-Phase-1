{
 "cells": [
  {
   "cell_type": "code",
   "execution_count": null,
   "metadata": {},
   "outputs": [],
   "source": [
    "import pandas as pd\n",
    "from sklearn.model_selection import train_test_split\n",
    "from sklearn.preprocessing import StandardScaler\n",
    "from sklearn.linear_model import Lasso\n",
    "from sklearn.metrics import r2_score, mean_squared_error\n",
    "\n",
    "data.dropna(inplace=True)  \n",
    "features = data.drop('median_house_value', axis=1)\n",
    "target = data['median_house_value']\n",
    "scaler = StandardScaler()\n",
    "features_scaled = scaler.fit_transform(features)\n",
    "\n",
    "X_train, X_test, y_train, y_test = train_test_split(features_scaled, target, test_size=0.2, random_state=42)\n",
    "\n",
    "lasso = Lasso(alpha=0.1)\n",
    "lasso.fit(X_train, y_train)\n",
    "\n",
    "coefficients = lasso.coef_\n",
    "zero_coefficients = [features.columns[i] for i, coef in enumerate(coefficients) if coef == 0]\n",
    "non_zero_features = [features.columns[i] for i, coef in enumerate(coefficients) if coef != 0]\n",
    "\n",
    "y_pred = lasso.predict(X_test)\n",
    "\n",
    "r2 = r2_score(y_test, y_pred)\n",
    "mse = mean_squared_error(y_test, y_pred)\n",
    "\n",
    "print(\"Selected Features (Non-Zero Coefficients):\")\n",
    "for feature in non_zero_features:\n",
    "  print(feature)\n",
    "\n",
    "print(\"\\nModel Metrics:\")\n",
    "print(f\"R-squared: {r2}\")\n",
    "print(f\"Mean Squared Error: {mse}\")\n",
    "print(f\"\\nZero Coefficients (Eliminated Features): {zero_coefficients}\")\n",
    "\n",
    "print(\"\\nNote: Lasso regression's L1 penalty shrinks some coefficients to exactly zero, leading to feature selection and a sparse model.  The above list of zero coefficients represents the features removed by the model based on the specified alpha parameter.\")\n"
   ]
  }
 ],
 "metadata": {
  "language_info": {
   "name": "python"
  }
 },
 "nbformat": 4,
 "nbformat_minor": 2
}
