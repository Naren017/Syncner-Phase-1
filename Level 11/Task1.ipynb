{
 "cells": [
  {
   "cell_type": "code",
   "execution_count": null,
   "metadata": {},
   "outputs": [],
   "source": [
    "import pandas as pd\n",
    "from sklearn.model_selection import train_test_split\n",
    "from sklearn.linear_model import LinearRegression\n",
    "from sklearn.metrics import r2_score, mean_squared_error\n",
    "import matplotlib.pyplot as plt\n",
    "\n",
    "try:\n",
    "    df = pd.read_csv('/content/california_housing.csv')\n",
    "except FileNotFoundError:\n",
    "    print(\"Error: File not found. Please upload california_housing.csv to /content/\")\n",
    "    exit()\n",
    "\n",
    "print(df.head())\n",
    "print(df.info())\n",
    "\n",
    "df.dropna(inplace=True)\n",
    "\n",
    "feature = 'total_rooms'\n",
    "target = 'median_house_value'\n",
    "\n",
    "X = df[[feature]]\n",
    "y = df[target]\n",
    "X_train, X_test, y_train, y_test = train_test_split(X, y, test_size=0.2, random_state=42)\n",
    "\n",
    "model = LinearRegression()\n",
    "model.fit(X_train, y_train)\n",
    "\n",
    "y_pred = model.predict(X_test)\n",
    "\n",
    "plt.figure(figsize=(8, 6))\n",
    "plt.scatter(X_test, y_test, color='blue', label='Actual')\n",
    "plt.plot(X_test, y_pred, color='red', linewidth=2, label='Regression Line')\n",
    "plt.xlabel(feature)\n",
    "plt.ylabel(target)\n",
    "plt.title('Linear Regression')\n",
    "plt.legend()\n",
    "plt.show()\n",
    "\n",
    "r2 = r2_score(y_test, y_pred)\n",
    "mse = mean_squared_error(y_test, y_pred)\n",
    "\n",
    "print(f\"R²: {r2}\")\n",
    "print(f\"MSE: {mse}\")\n",
    "\n",
    "if r2 > 0.7:\n",
    "    print(\"High R² indicates a relatively good fit.\")\n",
    "else:\n",
    "    print(\"Consider further feature engineering or model selection.\")\n"
   ]
  }
 ],
 "metadata": {
  "language_info": {
   "name": "python"
  }
 },
 "nbformat": 4,
 "nbformat_minor": 2
}
